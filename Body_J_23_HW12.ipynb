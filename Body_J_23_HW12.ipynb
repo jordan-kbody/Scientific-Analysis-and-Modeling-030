{
 "cells": [
  {
   "cell_type": "markdown",
   "metadata": {},
   "source": [
    "# PyObject:  Object-oriented programming HW"
   ]
  },
  {
   "cell_type": "markdown",
   "metadata": {},
   "source": [
    "## Exercise 1  (from Monday's class)"
   ]
  },
  {
   "cell_type": "markdown",
   "metadata": {},
   "source": [
    "1. Write a ``Particle`` class that can be used to represent a particle with a mass, a 3-d position, and a 3-d velocity.\n",
    "\n",
    "2. Write a method that can be used to compute the kinetic energy of the particle\n",
    "\n",
    "3. Write a method that takes another particle as an argument and finds the distance between the two particles\n",
    "\n",
    "4. Write a method that given a time interval ``dt`` will update the position of the particle to the new position based on the current position and velocity.\n",
    "\n",
    "5. Write a ``ChargedParticle`` class that inherits from the ``Particle`` class, but also has an attribute for the charge of the particle.\n"
   ]
  },
  {
   "cell_type": "code",
   "execution_count": 1,
   "metadata": {},
   "outputs": [],
   "source": [
    "import numpy as np\n",
    "# your solution here\n",
    "\n",
    "class Particle(object):\n",
    "    \n",
    "    def __init__(self, mass, x, y, z, vx, vy, vz):\n",
    "        self.mass= mass\n",
    "        self.x = x\n",
    "        self.y = y\n",
    "        self.z = z\n",
    "        self.vx = vx\n",
    "        self.vy = vy\n",
    "        self.vz = vz\n",
    "        \n",
    "        \n",
    "    def KE(self) :\n",
    "        return (.5*(self.mass)*(np.sqrt(vx**2 + vy**2 + vz**2)**2))\n",
    "        \n",
    "    def distance(self, other):\n",
    "        return np.sqrt((self.x-other.x)**2 + (self.y - other.y)**2 + (self.z - other.z)**2)\n",
    "    \n",
    "    def dt(self, time):\n",
    "        return ((self.x + self.vx*time, self.y + self.vy*time, self.z + self.vz*time))\n",
    "    \n",
    "    def separation(self, other):\n",
    "        return np.sqrt((self.x + other.x)**2 + (self.y + other.y)**2 + (self.z + other.z)**2)\n",
    "    \n",
    "    def t_interaction(self, other):\n",
    "            if self.charge > 0 and other.charge < 0 or self.charge < 0 and other.charge > 0:\n",
    "                self.charge = 0\n",
    "                other.charge = 0\n",
    "                self.vx = 0\n",
    "                self.vy = 0\n",
    "                self.vz = 0\n",
    "                other.vx = 0\n",
    "                other.vy = 0\n",
    "                other.vz = 0\n",
    "                print(\"Merge\")\n",
    "            else:\n",
    "                self.vx = self.vx * (-1 * (self.charge + other.charge) * (self.mass / other.mass)) \n",
    "                self.vy = self.vy * (-1 * (self.charge + other.charge) * (self.mass / other.mass)) \n",
    "                self.vz = self.vz * (-1 * (self.charge + other.charge) * (self.mass / other.mass)) \n",
    "                other.vx = other.vx * (-1 * (self.charge + other.charge) * (self.mass / other.mass)) \n",
    "                other.vy = other.vx * (-1 * (self.charge + other.charge) * (self.mass / other.mass)) \n",
    "                other.vz = other.vx * (-1 * (self.charge + other.charge) * (self.mass / other.mass)) \n",
    "                print(\"Repel\") \n",
    "    \n",
    "\n",
    "class ChargedParticle(Particle):\n",
    "\n",
    "    def __init__(self, mass, x, y, z, vx, vy, vz, charge):\n",
    "        self.mass = mass\n",
    "        self.x = x\n",
    "        self.y = y\n",
    "        self.z = z\n",
    "        self.vx = vx\n",
    "        self.vy = vy\n",
    "        self.vz = vz\n",
    "        self.charge = charge"
   ]
  },
  {
   "cell_type": "markdown",
   "metadata": {},
   "source": [
    "## Exercise 2  (New)"
   ]
  },
  {
   "cell_type": "markdown",
   "metadata": {},
   "source": [
    "6. Write a method that can be used to see if a particle is in the same place (e.g., find_seperation < 0.25).  If there are two ChargedParticles in the same place make a \"simple\" (*not correct physics*) \"interaction\". (__have the code print \"interaction\"__).   \n",
    "\n",
    "    a. If the charges are opposite, make them \"combine\", set both velocities to zero and set their charge to zero, and print \"merge\".\n",
    "\n",
    "    b. Else, make the particles \"repel\", to do:\n",
    "    \n",
    "        multiply each \"self\" velocity and  by (-1 * (self.charge+other.charge) * (self.mass/other.mass))  \n",
    "    \n",
    "        multiply each \"other\" velocity by (-1 * (self.charge+other.charge) * (other.mass/self.mass)) \n",
    "    \n",
    "    e.g., reversing it's velocity, and print \"repel\". __(Again this is bad physics, but we are focusing on coding so play along.)__\n",
    "\n",
    "\n",
    "7. To test the above, write a code with two particles starting:\n",
    "\n",
    "        P1 at (x,y,z) = (-5,-5,-5) with (vx,vy,vz) = (1,1,1) and (charge = 0.5) \n",
    "\n",
    "        P2 at (x,y,z) = (5,5,5) with (vx,vy,vz) = (-1,-1,-1) and (charge = -0.5).  \n",
    "\n",
    "    Use your dt time interval to move the particles in 0.25 time steps for 100 steps, and print the current poition and velocity of each particle at each time step.  \n",
    "    \n",
    "\n",
    "8. To test the above, write a code with two particles starting: \n",
    "\n",
    "        P1 at (x,y,z) = (-5,-5,-5) with (vx,vy,vz) = (2,2,2) and (charge = 0.5) \n",
    "\n",
    "        P2 at (x,y,z) = (5,5,5) with (vx,vy,vz) = (-2,-2,-2) and (charge = 2.0).  \n",
    "\n",
    "    Use your dt time interval to move the particles in 0.25 time steps for 100 steps, and print the current poition and velocity of each particle at each time step.  \n"
   ]
  },
  {
   "cell_type": "code",
   "execution_count": 2,
   "metadata": {},
   "outputs": [
    {
     "name": "stdout",
     "output_type": "stream",
     "text": [
      "Interaction\n",
      "Merge\n",
      "Interaction\n",
      "Repel\n",
      "\n",
      "(-5.625, -5.625, -5.625)\n",
      "(5.625, 4.21875, 4.21875)\n"
     ]
    }
   ],
   "source": [
    "p1 = ChargedParticle(5, -5, -5, -5, 1, 1, 1, 0.5)\n",
    "p2 = ChargedParticle(10, 5, 5, 5, -1, -1, -1, -0.5)\n",
    "p3 = ChargedParticle(5, -5, -5, -5, 2, 2, 2, 0.5)\n",
    "p4 = ChargedParticle(10, 5, 5, 5, -2, -2, -2, 2)\n",
    "\n",
    "#gotta print out the current position and velocity of each particle\n",
    "#for loop that runs through time until the particles get very close/merge\n",
    "\n",
    "if p1.separation(p2) < 0.25: \n",
    "    print(\"Interaction\")\n",
    "    p1.t_interaction(p2)\n",
    "    \n",
    "if p3.separation(p4) < 0.25: \n",
    "    print(\"Interaction\")\n",
    "    p3.t_interaction(p4)\n",
    "    \n",
    "print(\"\")\n",
    "\n",
    "for x in range(0,100):\n",
    "    (p3.dt(.25))\n",
    "    (p4.dt(.25))\n",
    "print(p3.dt(.25))\n",
    "print(p4.dt(.25))"
   ]
  }
 ],
 "metadata": {
  "kernelspec": {
   "display_name": "Python 3 (ipykernel)",
   "language": "python",
   "name": "python3"
  },
  "language_info": {
   "codemirror_mode": {
    "name": "ipython",
    "version": 3
   },
   "file_extension": ".py",
   "mimetype": "text/x-python",
   "name": "python",
   "nbconvert_exporter": "python",
   "pygments_lexer": "ipython3",
   "version": "3.11.4"
  }
 },
 "nbformat": 4,
 "nbformat_minor": 2
}
